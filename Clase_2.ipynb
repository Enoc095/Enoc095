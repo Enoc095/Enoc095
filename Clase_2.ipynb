{
  "nbformat": 4,
  "nbformat_minor": 0,
  "metadata": {
    "colab": {
      "name": "Clase 2.ipynb",
      "provenance": [],
      "authorship_tag": "ABX9TyOUfsINi4+yjUqE8vhKh7U9",
      "include_colab_link": true
    },
    "kernelspec": {
      "name": "python3",
      "display_name": "Python 3"
    },
    "language_info": {
      "name": "python"
    }
  },
  "cells": [
    {
      "cell_type": "markdown",
      "metadata": {
        "id": "view-in-github",
        "colab_type": "text"
      },
      "source": [
        "<a href=\"https://colab.research.google.com/github/Enoc095/Enoc095/blob/main/Clase_2.ipynb\" target=\"_parent\"><img src=\"https://colab.research.google.com/assets/colab-badge.svg\" alt=\"Open In Colab\"/></a>"
      ]
    },
    {
      "cell_type": "code",
      "execution_count": null,
      "metadata": {
        "colab": {
          "base_uri": "https://localhost:8080/"
        },
        "id": "L4YrLMPdQL6O",
        "outputId": "d23ede2a-5c4a-48cc-9310-65a46bb843c8"
      },
      "outputs": [
        {
          "output_type": "stream",
          "name": "stdout",
          "text": [
            "b no es más grande que a\n"
          ]
        }
      ],
      "source": [
        "a = 200\n",
        "b = 33\n",
        "if b > a:\n",
        "   print(\"b es más grande que a\")\n",
        "elif b==a:\n",
        "  print(\"b es exactamente igual a a\") \n",
        "else:\n",
        "  print(\"b no es más grande que a\")\n"
      ]
    },
    {
      "cell_type": "code",
      "source": [
        "name = \"Charmander\"\n",
        "strenght = 23\n",
        "if name == \"Charmander\" and strenght == 23:\n",
        "    print(\"Tu nombre es Charmander, y tienes 23 de fuerza.\")\n"
      ],
      "metadata": {
        "colab": {
          "base_uri": "https://localhost:8080/"
        },
        "id": "Vfedfc-0UkMu",
        "outputId": "b4a25ee5-98a6-42f0-873f-a41feefc737a"
      },
      "execution_count": null,
      "outputs": [
        {
          "output_type": "stream",
          "name": "stdout",
          "text": [
            "Tu nombre es Charmander, y tienes 23 de fuerza.\n"
          ]
        }
      ]
    },
    {
      "cell_type": "code",
      "source": [
        "pokemons = [\"Pikachu\", \"Squirtle\",\"Charmander\", 5]\n",
        "for pokemon in pokemons:\n",
        "    print(pokemon)\n"
      ],
      "metadata": {
        "colab": {
          "base_uri": "https://localhost:8080/"
        },
        "id": "S7kgP5mqYDli",
        "outputId": "1370a705-95aa-48e9-b2a6-64e0961769d7"
      },
      "execution_count": null,
      "outputs": [
        {
          "output_type": "stream",
          "name": "stdout",
          "text": [
            "Pikachu\n",
            "Squirtle\n",
            "Charmander\n",
            "5\n"
          ]
        }
      ]
    },
    {
      "cell_type": "code",
      "source": [
        "semilla = 1213\n",
        "for i in range (3):\n",
        "  n1 = semilla**2\n",
        "  n1 = str(n1)\n",
        "  if len(n1)<8:\n",
        "    while len(n1)<8:\n",
        "      n1=\"0\"+ n1\n",
        "    print(n1)\n",
        "  n1 = int(n1[:-2][2:])\n",
        "  semilla = n1\n",
        "  print (semilla)\n",
        "\n",
        "print (semilla)\n",
        "\n"
      ],
      "metadata": {
        "colab": {
          "base_uri": "https://localhost:8080/"
        },
        "id": "geBA9G07rHx8",
        "outputId": "b6ddfc83-42c7-4a2f-f6fc-c667bbfc1ac7"
      },
      "execution_count": null,
      "outputs": [
        {
          "output_type": "stream",
          "name": "stdout",
          "text": [
            "01471369\n",
            "4713\n",
            "2123\n",
            "04507129\n",
            "5071\n",
            "5071\n"
          ]
        }
      ]
    }
  ]
}